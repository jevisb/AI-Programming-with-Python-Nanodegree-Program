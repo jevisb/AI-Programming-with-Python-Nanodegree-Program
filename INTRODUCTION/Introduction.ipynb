Here you will learn the essential foundations of Artificial Intelligence (AI) necessary to build and train a neural network.

    Intro to programming
    Math Essentials
    What are neural networks
    Community Guidelines
Community Guidelines

Your experience in the Nanodegree program and community should be an engaging, fulfilling, and positive one. As such, we have outlined the following system for reporting behavior that does not live up to Udacity’s standards, so it can quickly be addressed by our staff.

All reports of suspected violations to the TOU, Community Code of Conduct or Honor Code should be submitted to report@udacity.com and will be reviewed. If you witness or are experiencing any violations of our policies please get in touch with us. Below prohibited actions as set forth on our Community Code of Conduct:

    Harassment: Inappropriate, harassing, abusive, discriminatory, derogatory or violent comments or conduct.
    Discrimination: Offensive comments related to gender or gender identity, sexual orientation, race, ethnicity, religion, national origin, disability or disease
    Distributing inappropriate content: Use of sexual, violent, graphic, or derogatory images
    Bullying: Deliberate intimidation, threats of violence or violent language directed against another person
    Sexual harassment: Unwelcome sexual attention
    Defamation: Obscene, fraudulent, indecent, or libelous acts that defame, abuse, harass, discriminate against or threaten others
    Plagiarism: will not cheat on any homework assignment, projects or exams for the Online Courses and, specifically, will not plagiarize materials created by others
    Self-injury or Suicide: We do not encourage posting in our student community about self-injury or suicide. If you or someone you know is exhibiting signs of self-injury or suicide, find help at the Suicide Prevention Lifeline in the U.S. and Befrienders.org globally.

When a potential violation is brought to our attention, we will make every effort to investigate the case thoroughly and make a decision that is fair to all parties.

Thank you, The Udacity Team


Lesson Plan

Udacity offers the AI Programming with Python Nanodegree to a wide range of students. As such, our students come from various backgrounds. Some of you will have had previous coding experience and some will have had none. For this reason we offer two suggested lesson plans. One lesson plan will apply to those of you with previous coding experience. The other will apply to those of you who feel they need more time to build coding confidence.

These suggested lesson plans will give you an idea of how to partition your time. You are of course encouraged to make your own judgement and enjoy the content at your own specific pace.
Suggested Lesson Plan: Students Without Extensive Coding Experience
Module 1: Introduction to AI Programming with Python

At your leisure
Module 2: Intro to Python

    Lessons (Why Python Programming, Data Types and Operators, Control Flow, Functions and Scripting)
        1.5 weeks

    Project_1 (using an Image classifier)
        1.5 week

Module 3: Numpy, Pandas, Matplotlib

    Anaconda, Jupyter Notebooks
        1 week

    Numpy, Pandas, Matplotib
        1.5 weeks

Module 4: Linear Algebra Essentials

    Lessons (Introduction, Vectors, Linear Combination, Linear Transformation and Matrices and Linear Algebra in Neural Networks )
        0.5 week

    Labs (Vectors, Linear Combination and Linear Mapping)
        0.5 week

Module 5: Neural Networks

    Lessons (Introduction to Neural Networks, Implementing Gradient Descent and Training Neural Networks)
        1 week

    Lesson (Deep Learning with PyTorch)
        1 week

Module 6: Image Classifier Project

    2.5 weeks

Notice that in total this sums up to 11.5 weeks. Use the extra time as you please.
Suggested Lesson Plan: Students With Extensive Coding Experience
Module 1: Introduction to AI Programming with Python

At your leisure
Module 2: Intro to Python

    Lessons (Why Python Programming, Data Types and Operators, Control Flow, Functions and Scripting)
        1 weeks

    Project_1 (using an Image classifier) - 1 week

Module 3: Numpy, Pandas, Matplotlib

    Anaconda, Jupyter Notebooks
        1 week

    Numpy, Pandas, Matplotlib
        1 week

Module 4: Linear Algebra Essentials

    Lessons (Introduction, Vectors, Linear Combination, Linear Transformation and Matrices and Linear Algebra in Neural Networks )
        0.5 week

    Labs (Vectors, Linear Combination and Linear Mapping)
        0.5 week

Module 5: Neural Networks

    Lessons (Introduction to Neural Networks, Implementing Gradient Descent and Training Neural Networks)
        1 week

    Lesson (Deep Learning with PyTorch)
        0.5 week

Module 6: Image Classifier Project

    1.5 weeks

(Notice that you have 3.5 weeks of extra time if you choose to use it).